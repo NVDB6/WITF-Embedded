{
 "cells": [
  {
   "cell_type": "code",
   "execution_count": 21,
   "metadata": {},
   "outputs": [],
   "source": [
    "import cv2\n",
    "import numpy as np"
   ]
  },
  {
   "cell_type": "code",
   "execution_count": 22,
   "metadata": {},
   "outputs": [],
   "source": [
    "boundary_x = 700\n",
    "threshold = 10_000"
   ]
  },
  {
   "cell_type": "code",
   "execution_count": 23,
   "metadata": {},
   "outputs": [
    {
     "data": {
      "text/plain": [
       "720"
      ]
     },
     "execution_count": 23,
     "metadata": {},
     "output_type": "execute_result"
    }
   ],
   "source": [
    "cap = cv2.VideoCapture('../resources/input/in_out_2.mov')\n",
    "frame_width = int(cap.get(cv2.CAP_PROP_FRAME_WIDTH))\n",
    "frame_height = int(cap.get(cv2.CAP_PROP_FRAME_HEIGHT))\n",
    "back_sub_alg = cv2.createBackgroundSubtractorMOG2()\n",
    "frame_height"
   ]
  },
  {
   "cell_type": "code",
   "execution_count": 24,
   "metadata": {},
   "outputs": [],
   "source": [
    "frame_size  = (int(cap.get(cv2.CAP_PROP_FRAME_WIDTH)), 2*int(cap.get(cv2.CAP_PROP_FRAME_HEIGHT)))\n",
    "frame_rate = cap.get(cv2.CAP_PROP_FPS)\n",
    "fourcc = cv2.VideoWriter_fourcc(*\"MJPG\")\n",
    "output = cv2.VideoWriter('../resources/output/in_out_2.avi', fourcc, frame_rate, frame_size)"
   ]
  },
  {
   "cell_type": "code",
   "execution_count": 25,
   "metadata": {},
   "outputs": [],
   "source": [
    "i = 0\n",
    "while i < 281:\n",
    "    # print(i)\n",
    "    hand_in = False\n",
    "    ret, frame = cap.read()\n",
    "    if not ret:\n",
    "        break\n",
    "    frame_gray = cv2.cvtColor(frame, cv2.COLOR_BGR2GRAY)\n",
    "    back_sub_mask = back_sub_alg.apply(frame_gray)\n",
    "    kernel = np.ones((6, 6),np.uint8)\n",
    "    back_sub_mask = cv2.morphologyEx(back_sub_mask, cv2.MORPH_OPEN, kernel)\n",
    "    _, binary_mask = cv2.threshold(back_sub_mask, 250, 255, cv2.THRESH_BINARY)\n",
    "    if np.sum(binary_mask[:, boundary_x:]==255) > threshold:\n",
    "        hand_in = True\n",
    "    annotated = cv2.line(frame, (boundary_x, 0), (boundary_x, frame_height), (255, 255, 0), 3)\n",
    "    text = \"Hand In\" if hand_in else \"Hand Out\"\n",
    "    text_overlay = cv2.putText(frame, text, (50, 100), 0, 3, (255, 255, 255))\n",
    "    merged_binary = cv2.merge((binary_mask, binary_mask, binary_mask))\n",
    "    combined_frame = cv2.vconcat([frame, merged_binary])\n",
    "    output.write(combined_frame)\n",
    "    # cv2.imshow(\"Frame\", text_overlay)\n",
    "    # cv2.waitKey(0)\n",
    "    i += 1\n",
    "output.release()\n",
    "# cv2.destroyAllWindows()\n",
    "# cv2.waitKey(1)\n",
    "\n",
    "    "
   ]
  },
  {
   "cell_type": "code",
   "execution_count": null,
   "metadata": {},
   "outputs": [],
   "source": []
  }
 ],
 "metadata": {
  "kernelspec": {
   "display_name": "embedded-env",
   "language": "python",
   "name": "embedded-env"
  },
  "orig_nbformat": 4
 },
 "nbformat": 4,
 "nbformat_minor": 2
}
